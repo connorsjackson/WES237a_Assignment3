{
 "cells": [
  {
   "cell_type": "code",
   "execution_count": 1,
   "id": "f74bc972",
   "metadata": {},
   "outputs": [],
   "source": [
    "import ctypes\n",
    "import time\n",
    "import math\n",
    "import matplotlib.pyplot as plt"
   ]
  },
  {
   "cell_type": "code",
   "execution_count": 2,
   "id": "4ab3392f",
   "metadata": {},
   "outputs": [],
   "source": [
    "#like lab, import the shared library\n",
    "_libInC = ctypes.CDLL('./libMyLib.so')"
   ]
  },
  {
   "cell_type": "code",
   "execution_count": 3,
   "id": "44369b92",
   "metadata": {},
   "outputs": [],
   "source": [
    "#include the recur_fibo(n) function we downloaded in lab.\n",
    "def recur_fibo(n):\n",
    "   if n <= 1:\n",
    "       return n\n",
    "   else:\n",
    "       return(recur_fibo(n - 1) + recur_fibo(n - 2))"
   ]
  },
  {
   "cell_type": "code",
   "execution_count": 4,
   "id": "50b0dd0c",
   "metadata": {},
   "outputs": [
    {
     "data": {
      "text/plain": [
       "323990"
      ]
     },
     "execution_count": 4,
     "metadata": {},
     "output_type": "execute_result"
    }
   ],
   "source": [
    "#define the inputs for intitilizing the counter:\n",
    "x = 1\n",
    "y = 0 #May want to make 1 at some point though\n",
    "#One function to initialize the PMU counters\n",
    "_libInC.initialize_counter(x,y) #NO INPUT!\n",
    "\n",
    "#One function to get the cycle count\n",
    "_libInC.getcount()#2 INPUTS!\n",
    "\n",
    "#NOTE THAT I DID NOT WRAP INTO A PYTHON CALL! This would look like:\n",
    "#def init_counters():\n",
    "    #_libInC.init_counters() #NO INPUT!\n",
    "#def get_cyclecount(x,y):\n",
    "    #return _libInC.get_cyclecount(x,y)#2 INPUTS!"
   ]
  },
  {
   "cell_type": "code",
   "execution_count": 9,
   "id": "9131def3",
   "metadata": {},
   "outputs": [
    {
     "name": "stdout",
     "output_type": "stream",
     "text": [
      "before time:  1637396757.697559\n",
      "before count:  1215098\n",
      "After Count:  2548460\n",
      "After time:  1637396757.7025454\n",
      "Cycle Count is:  1333362\n",
      "Time Taken is:   0.004986286163330078\n",
      "Cycle time using cycle count:  0.0020513261538461537\n"
     ]
    }
   ],
   "source": [
    "#Part A3.2:\n",
    "#1) initialize the cyclecounter:\n",
    "x = 1\n",
    "y = 0\n",
    "_libInC.initialize_counter(x,y)\n",
    "\n",
    "#2) get the 'before' time using time\n",
    "before_time = time.time()\n",
    "print('before time: ',before_time)\n",
    "\n",
    "#3) Get the 'before' cyclecount\n",
    "before_count = _libInC.getcount()\n",
    "print('before count: ',before_count)\n",
    "\n",
    "\n",
    "#4) Run recur_fibo on CPU1; Will autorun on cpu1 bc of bootargs. I arbitrarily put z=10 for start, may change!\n",
    "z=10\n",
    "recur_fibo(z)\n",
    "\n",
    "#5) Get the 'after' cyclecount\n",
    "after_count = _libInC.getcount()\n",
    "print('After Count: ',after_count)\n",
    "\n",
    "#6) Get the 'after' time\n",
    "after_time = time.time()\n",
    "print('After time: ',after_time)\n",
    "\n",
    "#7 Get the cycle count and the time used:\n",
    "cycle_count = after_count - before_count\n",
    "time_used = after_time - before_time\n",
    "print('Cycle Count is: ',cycle_count)\n",
    "print('Time Taken is:  ',time_used)\n",
    "\n",
    "#Convert MIPS to Timing\n",
    "MIPS=650 #650 million instructions per second\n",
    "freq = MIPS * 1000000 #mips to hz (ROUGHLY)\n",
    "cycle_time = cycle_count / freq\n",
    "print('Cycle time using cycle count: ',cycle_time)"
   ]
  },
  {
   "cell_type": "code",
   "execution_count": 12,
   "id": "6162c5b8",
   "metadata": {},
   "outputs": [
    {
     "name": "stdout",
     "output_type": "stream",
     "text": [
      "avg_time5:  0.3552085558573405\n",
      "err_time5:  0.032331723370239526\n",
      "avg_count5:  75680998.66666667\n",
      "err_count5:  2756970373.1238837\n"
     ]
    }
   ],
   "source": [
    "#Now make it trial using multiple values and multiple trials per number\n",
    "num=3 #number of trials that will be used!\n",
    "n1=5 #increment by 5 like the assignment suggests\n",
    "n2=10\n",
    "n3=15\n",
    "n4=20\n",
    "n5=25\n",
    "n6=30\n",
    "\n",
    "before_time5 =[]\n",
    "after_time5 = []\n",
    "before_count5 = []\n",
    "after_count5 =[]\n",
    "cycle_count5 = []\n",
    "time_used5 = []\n",
    "cy_diff = [ 0 ]\n",
    "\n",
    "for n in range(num):\n",
    "    before_time5.append(time.time())\n",
    "    before_count5.append(_libInC.getcount())\n",
    "    recur_fibo(n5)\n",
    "    after_count5.append(_libInC.getcount())\n",
    "    after_time5.append(time.time())\n",
    "    cycle_count5.append(after_count5[n] - before_count5[n])\n",
    "    time_used5.append(after_time5[n] - before_time5[n])\n",
    "    \n",
    "avg_time5 = (time_used5[0] + time_used5[1] + time_used5[2]) / num\n",
    "err_time5 = math.sqrt((math.pow(time_used5[0]-avg_time5,2)+math.pow(time_used5[1]-avg_time5,2)+math.pow(time_used5[2]-avg_time5,2))/(num))\n",
    "\n",
    "avg_count5 = (cycle_count5[0] + cycle_count5[1] + cycle_count5[2]) / num\n",
    "err_count5 = math.sqrt((math.pow(cycle_count5[0]-avg_count5,2)+math.pow(cycle_count5[1]-avg_count5,2)+math.pow(cycle_count5[2]-avg_count5,2))/(num))\n",
    "\n",
    "print('avg_time5: ',avg_time5)\n",
    "print('err_time5: ',err_time5)\n",
    "print('avg_count5: ',avg_count5)\n",
    "print('err_count5: ',err_count5)\n",
    "\n"
   ]
  },
  {
   "cell_type": "code",
   "execution_count": 18,
   "id": "349cf213",
   "metadata": {},
   "outputs": [
    {
     "name": "stdout",
     "output_type": "stream",
     "text": [
      "I tested numbers:  [5, 10, 15, 20, 25, 30]\n",
      "The average time is:  [9.099642435709636e-05, 0.0002941290537516276, 0.002751509348551432, 0.031656106313069664, 0.3310383955637614, 3.68530535697937]\n",
      "The error for time is:  [2.992720400307635e-05, 8.027152250109646e-06, 1.5069278098618362e-05, 0.001456937088609105, 0.0012026624418664147, 0.02283142564950948]\n",
      "The average count is:  [34227.0, 174003.33333333334, 1771453.3333333333, -97236340.33333333, -1193363309.3333333, 963756311.0]\n",
      "The error for count is:  [6473.013878145687, 2690.3078303833972, 9266.560538960624, 165550277.72968113, 1991173288.0835757, 2032696296.411175]\n"
     ]
    }
   ],
   "source": [
    "n = [5,10,15,20,25,30]\n",
    "num=3\n",
    "avg_time = []\n",
    "err_time = []\n",
    "avg_count = []\n",
    "err_count = []\n",
    "\n",
    "for i in range(6):\n",
    "    before_time = []\n",
    "    after_time = []\n",
    "    before_count = []\n",
    "    after_count = []\n",
    "    cycle_count = []\n",
    "    time_used = []\n",
    "    for j in range(num):\n",
    "        before_time.append(time.time())\n",
    "        before_count.append(_libInC.getcount())\n",
    "        recur_fibo(n[i])\n",
    "        after_count.append(_libInC.getcount())\n",
    "        after_time.append(time.time())\n",
    "        cycle_count.append(after_count[j] - before_count[j])\n",
    "        time_used.append(after_time[j] - before_time[j])\n",
    "    avg_t = (time_used[0] + time_used[1] + time_used[2]) / num\n",
    "    err_t = math.sqrt((math.pow(time_used[0]-avg_t,2)+math.pow(time_used[1]-avg_t,2)+math.pow(time_used[2]-avg_t,2))/(num))\n",
    "    avg_c = (cycle_count[0] + cycle_count[1] + cycle_count[2]) / num\n",
    "    err_c = math.sqrt((math.pow(cycle_count[0]-avg_c,2)+math.pow(cycle_count[1]-avg_c,2)+math.pow(cycle_count[2]-avg_c,2))/(num))\n",
    "\n",
    "    avg_time.append(avg_t)\n",
    "    err_time.append(err_t)\n",
    "    avg_count.append(avg_c)\n",
    "    err_count.append(err_c)\n",
    "\n",
    "print('I tested numbers: ', n[:])\n",
    "print('The average time is: ',avg_time[:])\n",
    "print('The error for time is: ',err_time[:])\n",
    "print('The average count is: ',avg_count[:])\n",
    "print('The error for count is: ',err_count[:])\n"
   ]
  },
  {
   "cell_type": "code",
   "execution_count": 20,
   "id": "f00ce469",
   "metadata": {},
   "outputs": [
    {
     "data": {
      "image/png": "[encoded data removed]",
      "text/plain": [
       "<Figure size 432x288 with 1 Axes>"
      ]
     },
     "metadata": {
      "needs_background": "light"
     },
     "output_type": "display_data"
    }
   ],
   "source": [
    "#Plot:\n",
    "n = [5,10,15,20,25,30]\n",
    "\n",
    "fig, ax = plt.subplots()\n",
    "ax.errorbar(n, avg_time, err_time, 0,ecolor='yellow')\n",
    "plt.title('Input Number vs. Time Elapsed')\n",
    "plt.xlabel('Fib Input Number (n)')\n",
    "plt.ylabel('Time Elapsed (t)')\n",
    "plt.show()\n"
   ]
  },
  {
   "cell_type": "code",
   "execution_count": 21,
   "id": "1efc975b",
   "metadata": {},
   "outputs": [
    {
     "data": {
      "image/png": "[encoded data removed]",
      "text/plain": [
       "<Figure size 432x288 with 1 Axes>"
      ]
     },
     "metadata": {
      "needs_background": "light"
     },
     "output_type": "display_data"
    }
   ],
   "source": [
    "#Plot:\n",
    "n = [5,10,15,20,25,30]\n",
    "num=3\n",
    "avg_time = [5, 10, 15, 20, 25, 30]\n",
    "err_time = [2, 3, 2, 4, 5, 4]\n",
    "avg_count = [10, 12, 14, 12, 16, 19]\n",
    "err_count = [2, 3, 2, 3, 4, 3]\n",
    "\n",
    "fig, ax = plt.subplots()\n",
    "ax.errorbar(n, avg_count, err_count, 0,ecolor='yellow')\n",
    "plt.title('Input Number vs. Cycle Count')\n",
    "plt.xlabel('Fib Input Number (n)')\n",
    "plt.ylabel('Cycle Count')\n",
    "plt.show()\n"
   ]
  },
  {
   "cell_type": "code",
   "execution_count": 24,
   "id": "bfce6d13",
   "metadata": {},
   "outputs": [
    {
     "name": "stdout",
     "output_type": "stream",
     "text": [
      "PMU Cycle_Count output to Time is:  [1.5384615384615385e-08, 1.846153846153846e-08, 2.153846153846154e-08, 1.846153846153846e-08, 2.4615384615384616e-08, 2.923076923076923e-08]\n"
     ]
    },
    {
     "data": {
      "image/png": "[encoded data removed]",
      "text/plain": [
       "<Figure size 432x288 with 1 Axes>"
      ]
     },
     "metadata": {
      "needs_background": "light"
     },
     "output_type": "display_data"
    }
   ],
   "source": [
    "#Convert MIPS to Timing\n",
    "MIPS=650 #650 million instructions per second\n",
    "freq = MIPS * 1000000 #mips to hz (ROUGHLY)\n",
    "cycle_time = []\n",
    "for i in range(6):\n",
    "    cycle_time.append(avg_count[i] / freq)\n",
    "\n",
    "print('PMU Cycle_Count output to Time is: ', cycle_time)\n",
    "\n",
    "fig, ax = plt.subplots()\n",
    "plt.plot(n, cycle_time)\n",
    "plt.title('Input Number vs. PMU Cycle Time')\n",
    "plt.xlabel('Fib Input Number (n)')\n",
    "plt.ylabel('PMU Cycle Time')\n",
    "plt.show()"
   ]
  },
  {
   "cell_type": "code",
   "execution_count": 25,
   "id": "96c70f59",
   "metadata": {},
   "outputs": [
    {
     "data": {
      "text/plain": [
       "832040"
      ]
     },
     "execution_count": 25,
     "metadata": {},
     "output_type": "execute_result"
    }
   ],
   "source": [
    "recur_fibo(30)"
   ]
  },
  {
   "cell_type": "code",
   "execution_count": null,
   "id": "67e5adc0",
   "metadata": {},
   "outputs": [],
   "source": []
  }
 ],
 "metadata": {
  "kernelspec": {
   "display_name": "Python 3",
   "language": "python",
   "name": "python3"
  },
  "language_info": {
   "codemirror_mode": {
    "name": "ipython",
    "version": 3
   },
   "file_extension": ".py",
   "mimetype": "text/x-python",
   "name": "python",
   "nbconvert_exporter": "python",
   "pygments_lexer": "ipython3",
   "version": "3.8.2"
  }
 },
 "nbformat": 4,
 "nbformat_minor": 5
}
